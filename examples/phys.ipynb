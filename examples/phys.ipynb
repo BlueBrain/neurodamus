{
 "cells": [
  {
   "cell_type": "code",
   "execution_count": 1,
   "id": "36a8c74d",
   "metadata": {},
   "outputs": [
    {
     "name": "stderr",
     "output_type": "stream",
     "text": [
      "Warning: no DISPLAY environment variable.\n",
      "--No graphics will be displayed.\n"
     ]
    }
   ],
   "source": [
    "from neurodamus.core import Cell\n",
    "from neurodamus.core import CurrentSource\n",
    "from neurodamus.core import Neuron\n",
    "from neurodamus.core import mechanisms\n",
    "from neurodamus import Cell_V6\n",
    "from neurodamus.core.stimuli import RealElectrode, ConstantEfield, PointSourceElectrode\n",
    "from neuron import h\n",
    "import numpy as np\n",
    "\n"
   ]
  },
  {
   "cell_type": "code",
   "execution_count": 2,
   "id": "6d4acc24",
   "metadata": {},
   "outputs": [],
   "source": [
    "class CircuitConfig():\n",
    "    _name = None\n",
    "    Engine = None\n",
    "    CircuitPath = None\n",
    "    nrnPath = None\n",
    "    CellLibraryFile = None\n",
    "    MEComboInfoFile = None\n",
    "    METypePath = '/gpfs/bbp.cscs.ch/project/proj45/scratch/S1full/hocAxons/'\n",
    "    #METypePath = '/gpfs/bbp.cscs.ch/project/proj45/scratch/S1full/hocAxons/cADpyr_L5TPC.hoc'\n",
    "    MorphologyType = None\n",
    "    MorphologyPath = '/gpfs/bbp.cscs.ch/project/proj68/home/arnaudon/mm_new_axon/selected_morphologies/C080501B2.asc'\n",
    "    CircuitTarget = None\n",
    "    PopulationID = 0"
   ]
  },
  {
   "cell_type": "code",
   "execution_count": 3,
   "id": "03dda542",
   "metadata": {},
   "outputs": [],
   "source": [
    "class MEInfo():\n",
    "    morph_name = 'C080501B2'\n",
    "    morph_extension = 'asc'\n",
    "    threshold_current = 0\n",
    "    holding_current = 0\n",
    "    exc_mini_frequency = 0\n",
    "    inh_mini_frequency = 0\n",
    "    local_to_global_matrix = np.eye(3)\n",
    "    emodel = 'cADpyr_L5TPC'"
   ]
  },
  {
   "cell_type": "code",
   "execution_count": 4,
   "id": "6fd73135",
   "metadata": {},
   "outputs": [],
   "source": [
    "circ = CircuitConfig()"
   ]
  },
  {
   "cell_type": "code",
   "execution_count": 5,
   "id": "36e1e18e",
   "metadata": {},
   "outputs": [],
   "source": [
    "inf = MEInfo()"
   ]
  },
  {
   "cell_type": "code",
   "execution_count": 6,
   "id": "08370a21",
   "metadata": {},
   "outputs": [
    {
     "name": "stdout",
     "output_type": "stream",
     "text": [
      "[\u001b[39;1mSTEP\u001b[0m] \u001b[39;1mInitializing Neurodamus... Logfile: pydamus_2022-10-27_11h47.log\u001b[0m\n",
      "NRNMECH_LIB_PATH\n",
      "[\u001b[31mERROR\u001b[0m] \u001b[31m(rank 0) Could not load neurodamus core mechs from NRNMECH_LIB_PATH\u001b[0m\n"
     ]
    },
    {
     "ename": "SystemExit",
     "evalue": "1",
     "output_type": "error",
     "traceback": [
      "An exception has occurred, use %tb to see the full traceback.\n",
      "\u001b[0;31mSystemExit\u001b[0m\u001b[0;31m:\u001b[0m 1\n"
     ]
    },
    {
     "name": "stderr",
     "output_type": "stream",
     "text": [
      "/gpfs/bbp.cscs.ch/home/tharayil/testingEnv/lib/python3.9/site-packages/IPython/core/interactiveshell.py:3406: UserWarning: To exit: use 'exit', 'quit', or Ctrl-D.\n",
      "  warn(\"To exit: use 'exit', 'quit', or Ctrl-D.\", stacklevel=1)\n"
     ]
    }
   ],
   "source": [
    "s"
   ]
  },
  {
   "cell_type": "code",
   "execution_count": 7,
   "id": "59d15e38",
   "metadata": {},
   "outputs": [
    {
     "ename": "SystemExit",
     "evalue": "1",
     "output_type": "error",
     "traceback": [
      "\u001b[0;31m---------------------------------------------------------------------------\u001b[0m",
      "\u001b[0;31mSystemExit\u001b[0m                                Traceback (most recent call last)",
      "Input \u001b[0;32mIn [6]\u001b[0m, in \u001b[0;36m<cell line: 1>\u001b[0;34m()\u001b[0m\n\u001b[0;32m----> 1\u001b[0m c \u001b[38;5;241m=\u001b[39m \u001b[43mCell_V6\u001b[49m\u001b[43m(\u001b[49m\u001b[38;5;241;43m0\u001b[39;49m\u001b[43m,\u001b[49m\u001b[43minf\u001b[49m\u001b[43m,\u001b[49m\u001b[43mcirc\u001b[49m\u001b[43m)\u001b[49m\n",
      "File \u001b[0;32m~/generalized-neurodamus-py/neurodamus-py/neurodamus/metype.py:139\u001b[0m, in \u001b[0;36mCell_V6.__init__\u001b[0;34m(self, gid, meinfo, circuit_conf)\u001b[0m\n\u001b[1;32m    137\u001b[0m mepath \u001b[38;5;241m=\u001b[39m circuit_conf\u001b[38;5;241m.\u001b[39mMETypePath\n\u001b[1;32m    138\u001b[0m morpho_path \u001b[38;5;241m=\u001b[39m circuit_conf\u001b[38;5;241m.\u001b[39mMorphologyPath\n\u001b[0;32m--> 139\u001b[0m \u001b[38;5;28;43msuper\u001b[39;49m\u001b[43m(\u001b[49m\u001b[43m)\u001b[49m\u001b[38;5;241;43m.\u001b[39;49m\u001b[38;5;21;43m__init__\u001b[39;49m\u001b[43m(\u001b[49m\u001b[43mgid\u001b[49m\u001b[43m,\u001b[49m\u001b[43m \u001b[49m\u001b[43mmepath\u001b[49m\u001b[43m,\u001b[49m\u001b[43m \u001b[49m\u001b[43mmeinfo\u001b[49m\u001b[38;5;241;43m.\u001b[39;49m\u001b[43memodel\u001b[49m\u001b[43m,\u001b[49m\u001b[43m \u001b[49m\u001b[43mmorpho_path\u001b[49m\u001b[43m,\u001b[49m\u001b[43m \u001b[49m\u001b[43mmeinfo\u001b[49m\u001b[43m)\u001b[49m\n",
      "File \u001b[0;32m~/generalized-neurodamus-py/neurodamus-py/neurodamus/metype.py:70\u001b[0m, in \u001b[0;36mMEType.__init__\u001b[0;34m(self, gid, etype_path, emodel, morpho_path, meinfos)\u001b[0m\n\u001b[1;32m     67\u001b[0m \u001b[38;5;28mself\u001b[39m\u001b[38;5;241m.\u001b[39mexc_mini_frequency \u001b[38;5;241m=\u001b[39m \u001b[38;5;28;01mNone\u001b[39;00m\n\u001b[1;32m     68\u001b[0m \u001b[38;5;28mself\u001b[39m\u001b[38;5;241m.\u001b[39minh_mini_frequency \u001b[38;5;241m=\u001b[39m \u001b[38;5;28;01mNone\u001b[39;00m\n\u001b[0;32m---> 70\u001b[0m \u001b[38;5;28;43mself\u001b[39;49m\u001b[38;5;241;43m.\u001b[39;49m\u001b[43m_instantiate_cell\u001b[49m\u001b[43m(\u001b[49m\u001b[43mgid\u001b[49m\u001b[43m,\u001b[49m\u001b[43m \u001b[49m\u001b[43metype_path\u001b[49m\u001b[43m,\u001b[49m\u001b[43m \u001b[49m\u001b[43memodel\u001b[49m\u001b[43m,\u001b[49m\u001b[43m \u001b[49m\u001b[43mmorpho_path\u001b[49m\u001b[43m,\u001b[49m\u001b[43m \u001b[49m\u001b[43mmeinfos\u001b[49m\u001b[43m)\u001b[49m\n",
      "File \u001b[0;32m~/generalized-neurodamus-py/neurodamus-py/neurodamus/metype.py:144\u001b[0m, in \u001b[0;36mCell_V6._instantiate_cell\u001b[0;34m(self, gid, etype_path, emodel, morpho_path, meinfos_v6)\u001b[0m\n\u001b[1;32m    141\u001b[0m \u001b[38;5;28;01mdef\u001b[39;00m \u001b[38;5;21m_instantiate_cell\u001b[39m(\u001b[38;5;28mself\u001b[39m, gid, etype_path, emodel, morpho_path, meinfos_v6):\n\u001b[1;32m    142\u001b[0m     \u001b[38;5;124;03m\"\"\"Instantiates a SSCx v6 cell\u001b[39;00m\n\u001b[1;32m    143\u001b[0m \u001b[38;5;124;03m    \"\"\"\u001b[39;00m\n\u001b[0;32m--> 144\u001b[0m     \u001b[43mNd\u001b[49m\u001b[38;5;241;43m.\u001b[39;49m\u001b[43mload_hoc\u001b[49m\u001b[43m(\u001b[49m\u001b[43mospath\u001b[49m\u001b[38;5;241;43m.\u001b[39;49m\u001b[43mjoin\u001b[49m\u001b[43m(\u001b[49m\u001b[43metype_path\u001b[49m\u001b[43m,\u001b[49m\u001b[43m \u001b[49m\u001b[43memodel\u001b[49m\u001b[43m)\u001b[49m\u001b[43m)\u001b[49m\n\u001b[1;32m    145\u001b[0m     EModel \u001b[38;5;241m=\u001b[39m \u001b[38;5;28mgetattr\u001b[39m(Nd, emodel)\n\u001b[1;32m    146\u001b[0m     morpho_file \u001b[38;5;241m=\u001b[39m meinfos_v6\u001b[38;5;241m.\u001b[39mmorph_name \u001b[38;5;241m+\u001b[39m \u001b[38;5;124m\"\u001b[39m\u001b[38;5;124m.\u001b[39m\u001b[38;5;124m\"\u001b[39m \u001b[38;5;241m+\u001b[39m \u001b[38;5;28mself\u001b[39m\u001b[38;5;241m.\u001b[39mmorpho_extension\n",
      "File \u001b[0;32m~/generalized-neurodamus-py/neurodamus-py/neurodamus/core/_neuron.py:58\u001b[0m, in \u001b[0;36m_Neuron.load_hoc\u001b[0;34m(cls, mod_name)\u001b[0m\n\u001b[1;32m     56\u001b[0m \u001b[38;5;28;01mif\u001b[39;00m mod_name \u001b[38;5;129;01min\u001b[39;00m \u001b[38;5;28mcls\u001b[39m\u001b[38;5;241m.\u001b[39m_hocs_loaded:\n\u001b[1;32m     57\u001b[0m     \u001b[38;5;28;01mreturn\u001b[39;00m\n\u001b[0;32m---> 58\u001b[0m h \u001b[38;5;241m=\u001b[39m (\u001b[38;5;28mcls\u001b[39m\u001b[38;5;241m.\u001b[39m_h \u001b[38;5;129;01mor\u001b[39;00m \u001b[38;5;28;43mcls\u001b[39;49m\u001b[38;5;241;43m.\u001b[39;49m\u001b[43m_init\u001b[49m\u001b[43m(\u001b[49m\u001b[43m)\u001b[49m)\n\u001b[1;32m     59\u001b[0m mod_filename \u001b[38;5;241m=\u001b[39m mod_name \u001b[38;5;241m+\u001b[39m \u001b[38;5;124m\"\u001b[39m\u001b[38;5;124m.hoc\u001b[39m\u001b[38;5;124m\"\u001b[39m\n\u001b[1;32m     60\u001b[0m \u001b[38;5;28;01mif\u001b[39;00m \u001b[38;5;129;01mnot\u001b[39;00m h\u001b[38;5;241m.\u001b[39mload_file(mod_filename):\n",
      "File \u001b[0;32m~/generalized-neurodamus-py/neurodamus-py/neurodamus/core/_neurodamus.py:52\u001b[0m, in \u001b[0;36m_NeurodamusCore._init\u001b[0;34m(cls, *args)\u001b[0m\n\u001b[1;32m     49\u001b[0m     os\u001b[38;5;241m.\u001b[39mremove(EXCEPTION_NODE_FILENAME)\n\u001b[1;32m     51\u001b[0m \u001b[38;5;66;03m# Load mods if not available\u001b[39;00m\n\u001b[0;32m---> 52\u001b[0m \u001b[38;5;28;43mcls\u001b[39;49m\u001b[38;5;241;43m.\u001b[39;49m\u001b[43m_load_nrnmechlibs\u001b[49m\u001b[43m(\u001b[49m\u001b[43m)\u001b[49m\n\u001b[1;32m     53\u001b[0m log_verbose(\u001b[38;5;124m\"\u001b[39m\u001b[38;5;124mMechanisms (mod) library(s) successfully loaded\u001b[39m\u001b[38;5;124m\"\u001b[39m)\n\u001b[1;32m     55\u001b[0m \u001b[38;5;66;03m# Load main Hoc\u001b[39;00m\n",
      "File \u001b[0;32m~/generalized-neurodamus-py/neurodamus-py/neurodamus/core/_neurodamus.py:111\u001b[0m, in \u001b[0;36m_NeurodamusCore._load_nrnmechlibs\u001b[0;34m(cls)\u001b[0m\n\u001b[1;32m    109\u001b[0m \u001b[38;5;28;01mif\u001b[39;00m \u001b[38;5;129;01mnot\u001b[39;00m check_load_lib(\u001b[38;5;124m\"\u001b[39m\u001b[38;5;124mSpikeWriter\u001b[39m\u001b[38;5;124m\"\u001b[39m, \u001b[38;5;124m\"\u001b[39m\u001b[38;5;124mNRNMECH_LIB_PATH\u001b[39m\u001b[38;5;124m\"\u001b[39m):\n\u001b[1;32m    110\u001b[0m     logging\u001b[38;5;241m.\u001b[39merror(\u001b[38;5;124m\"\u001b[39m\u001b[38;5;124mCould not load neurodamus core mechs from NRNMECH_LIB_PATH\u001b[39m\u001b[38;5;124m\"\u001b[39m)\n\u001b[0;32m--> 111\u001b[0m     \u001b[43msys\u001b[49m\u001b[38;5;241;43m.\u001b[39;49m\u001b[43mexit\u001b[49m\u001b[43m(\u001b[49m\u001b[38;5;241;43m1\u001b[39;49m\u001b[43m)\u001b[49m\n\u001b[1;32m    112\u001b[0m \u001b[38;5;28;01mif\u001b[39;00m \u001b[38;5;129;01mnot\u001b[39;00m check_load_lib(\u001b[38;5;124m\"\u001b[39m\u001b[38;5;124mProbAMPANMDA_EMS\u001b[39m\u001b[38;5;124m\"\u001b[39m, \u001b[38;5;124m\"\u001b[39m\u001b[38;5;124mBGLIBPY_MOD_LIBRARY_PATH\u001b[39m\u001b[38;5;124m\"\u001b[39m):\n\u001b[1;32m    113\u001b[0m     logging\u001b[38;5;241m.\u001b[39merror(\u001b[38;5;124m\"\u001b[39m\u001b[38;5;124mCould not load mod library from BGLIBPY_MOD_LIBRARY_PATH\u001b[39m\u001b[38;5;124m\"\u001b[39m)\n",
      "\u001b[0;31mSystemExit\u001b[0m: 1"
     ]
    }
   ],
   "source": [
    "%tb"
   ]
  },
  {
   "cell_type": "code",
   "execution_count": null,
   "id": "20921867",
   "metadata": {},
   "outputs": [],
   "source": []
  },
  {
   "cell_type": "code",
   "execution_count": null,
   "id": "afdad402",
   "metadata": {},
   "outputs": [],
   "source": [
    "c = Cell_V5(0,'/gpfs/bbp.cscs.ch/project/proj45/scratch/S1full/hocAxons/cADpyr_L5TPC',circ)"
   ]
  },
  {
   "cell_type": "code",
   "execution_count": null,
   "id": "73abfa63",
   "metadata": {},
   "outputs": [],
   "source": [
    "%tb"
   ]
  },
  {
   "cell_type": "code",
   "execution_count": null,
   "id": "7a2cd4b7",
   "metadata": {},
   "outputs": [],
   "source": [
    "c.morpho_extension"
   ]
  },
  {
   "cell_type": "code",
   "execution_count": null,
   "id": "3c334dc9",
   "metadata": {},
   "outputs": [],
   "source": [
    "\n",
    "\n",
    "# Change v_init globally\n",
    "# Alternatively v_init can be configured per simulation in run_sim(**kw)\n",
    "Neuron.Simulation.v_init = -70\n",
    "\n",
    "\n",
    "def test_tut1(offset, quick=True):\n",
    "    \n",
    "    \n",
    "    c = METype(0,'/gpfs/bbp.cscs.ch/project/proj45/scratch/S1full/hocAxons', 'cADpyr_L5TPC_L5_TPC:B',\n",
    "               '/gpfs/bbp.cscs.ch/project/proj68/home/arnaudon/mm_new_axon/selected_morphologies/C080501B2.asc')\n",
    "\n",
    "        \n",
    "\n",
    "    stim = ConstantEfield('Extracellular', 100, 'Pulse',\n",
    "                          100, [.001], None, [100], None, None, 0.025, 0,0,np.array([offset,0,0]),'x',[0,0,0])\n",
    "    \n",
    "    for sec in c.all:\n",
    "        for seg in sec:\n",
    "            stim.attach_to(sec, seg.x)\n",
    "    \n",
    "\n",
    "\n",
    "#     # clamp = StimuliSource.pulse(0.1, 50, delay=10).attach_to(c.soma)  # eqv. to Constant()\n",
    "#     #CurrentSource.Constant(0.1, 50, 10).attach_to(c.soma)\n",
    "    #result = Neuron.run_sim(100, c.soma)#.plot()\n",
    "    \n",
    "    #return result #stim, c\n",
    "\n",
    "\n",
    "#     # Execution with Active channels\n",
    "#     hh.gkbar = 0.01\n",
    "#     hh.gnabar = 0.2\n",
    "\n",
    "#     for sec in c.all:\n",
    "#         hh.apply(sec)\n",
    "        \n",
    "    sim = Neuron.run_sim(200, c.soma)\n",
    "    \n",
    "    return sim\n",
    "#     # sim.run_continue(100)\n",
    "#     sim.plot()\n",
    "\n",
    "#     # Extending the model with dendrites\n",
    "\n",
    "#     mechanisms.HH(el=-70, gl=5e-4, gkbar=.0, gnabar=.0).apply(c.dendrites)\n",
    "#     Neuron.run_sim(50, c.dendrites[0]).plot()\n",
    "\n",
    "#     Cell.show_topology()\n",
    "#     Neuron.h.psection(sec=c.dendrites[0])"
   ]
  },
  {
   "cell_type": "code",
   "execution_count": null,
   "id": "b6352430",
   "metadata": {},
   "outputs": [],
   "source": [
    "r1 = test_tut1(1, True)"
   ]
  },
  {
   "cell_type": "code",
   "execution_count": null,
   "id": "b58097a0",
   "metadata": {},
   "outputs": [],
   "source": [
    "r0 = test_tut1(0, True)"
   ]
  },
  {
   "cell_type": "code",
   "execution_count": null,
   "id": "11e4f7b1",
   "metadata": {},
   "outputs": [],
   "source": [
    "import matplotlib.pyplot as plt\n",
    "plt.figure()\n",
    "r1.plot()\n",
    "r0.plot()"
   ]
  },
  {
   "cell_type": "code",
   "execution_count": null,
   "id": "af112df1",
   "metadata": {},
   "outputs": [],
   "source": [
    "cell.soma.e_extracellular"
   ]
  },
  {
   "cell_type": "code",
   "execution_count": null,
   "id": "a4f1e7ff",
   "metadata": {},
   "outputs": [],
   "source": [
    "stim.extracellulars[1].to_python()"
   ]
  },
  {
   "cell_type": "code",
   "execution_count": null,
   "id": "9b1d4250",
   "metadata": {},
   "outputs": [],
   "source": [
    "stim0.extracellulars[1].to_python()"
   ]
  },
  {
   "cell_type": "code",
   "execution_count": null,
   "id": "8dc54222",
   "metadata": {},
   "outputs": [],
   "source": []
  }
 ],
 "metadata": {
  "kernelspec": {
   "display_name": "Python 3",
   "language": "python",
   "name": "python3"
  },
  "language_info": {
   "codemirror_mode": {
    "name": "ipython",
    "version": 3
   },
   "file_extension": ".py",
   "mimetype": "text/x-python",
   "name": "python",
   "nbconvert_exporter": "python",
   "pygments_lexer": "ipython3",
   "version": "3.7.4"
  }
 },
 "nbformat": 4,
 "nbformat_minor": 5
}
